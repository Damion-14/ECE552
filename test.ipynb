{
 "cells": [
  {
   "cell_type": "code",
   "execution_count": 6,
   "id": "ee110824",
   "metadata": {},
   "outputs": [
    {
     "name": "stdout",
     "output_type": "stream",
     "text": [
      "Array: [1, 3, 2]\n",
      "Peak index: 1, Peak value: 3\n",
      "Array: [5, 4, 3, 2, 1]\n",
      "Peak index: 0, Peak value: 5\n",
      "Array: [1, 2, 3, 4, 5]\n",
      "Peak index: 4, Peak value: 5\n",
      "Array: [2, 2, 2, 2]\n",
      "Peak index: 1, Peak value: 2\n",
      "Array: [10]\n",
      "Peak index: 0, Peak value: 10\n",
      "Array: [1, 3, 2, 5, 4, 6, 1]\n",
      "Peak index: 3, Peak value: 5\n",
      "All tests passed!\n"
     ]
    }
   ],
   "source": [
    "def circular_peak_recursive(A, left=0, right=None):\n",
    "    \"\"\"\n",
    "    Recursive O(log n) peak finder in a circular array A.\n",
    "    Returns index of a peak (value >= both neighbors).\n",
    "    \"\"\"\n",
    "    n = len(A)\n",
    "    if right is None:\n",
    "        right = n - 1\n",
    "\n",
    "    if left == right:\n",
    "        return left  # base case: only one element left\n",
    "\n",
    "    mid = (left + right) // 2\n",
    "    prev = (mid - 1 + n) % n\n",
    "    next_ = (mid + 1) % n\n",
    "\n",
    "    if A[mid] >= A[prev] and A[mid] >= A[next_]:\n",
    "        return mid  # peak found at mid\n",
    "    elif A[mid] < A[prev]:\n",
    "        return circular_peak_recursive(A, left, mid - 1)  # go left\n",
    "    else:\n",
    "        return circular_peak_recursive(A, mid + 1, right)  # go right\n",
    "\n",
    "\n",
    "def is_peak(A, idx):\n",
    "    \"\"\"Check if A[idx] is a peak in circular array A.\"\"\"\n",
    "    n = len(A)\n",
    "    return A[idx] >= A[(idx - 1) % n] and A[idx] >= A[(idx + 1) % n]\n",
    "\n",
    "\n",
    "def test_circular_peak_recursive():\n",
    "    test_arrays = [\n",
    "        [1, 3, 2],                # simple peak at index 1\n",
    "        [5, 4, 3, 2, 1],          # peak at index 0 (wrap-around)\n",
    "        [1, 2, 3, 4, 5],          # peak at index 4 (wrap-around neighbor)\n",
    "        [2, 2, 2, 2],             # all equal, any index is a peak\n",
    "        [10],                     # single element\n",
    "        [1, 3, 2, 5, 4, 6, 1]     # multiple peaks, should return any valid peak\n",
    "    ]\n",
    "\n",
    "    for A in test_arrays:\n",
    "        idx = circular_peak_recursive(A)\n",
    "        print(f\"Array: {A}\")\n",
    "        print(f\"Peak index: {idx}, Peak value: {A[idx]}\")\n",
    "        assert is_peak(A, idx), f\"Returned index {idx} is not a peak!\"\n",
    "\n",
    "    print(\"All tests passed!\")\n",
    "\n",
    "\n",
    "# Run tests\n",
    "if __name__ == \"__main__\":\n",
    "    test_circular_peak_recursive()\n"
   ]
  },
  {
   "cell_type": "code",
   "execution_count": null,
   "id": "b9a71d4b",
   "metadata": {},
   "outputs": [],
   "source": []
  }
 ],
 "metadata": {
  "kernelspec": {
   "display_name": "Python 3",
   "language": "python",
   "name": "python3"
  },
  "language_info": {
   "codemirror_mode": {
    "name": "ipython",
    "version": 3
   },
   "file_extension": ".py",
   "mimetype": "text/x-python",
   "name": "python",
   "nbconvert_exporter": "python",
   "pygments_lexer": "ipython3",
   "version": "3.12.3"
  }
 },
 "nbformat": 4,
 "nbformat_minor": 5
}
